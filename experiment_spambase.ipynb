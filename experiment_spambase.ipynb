{
 "cells": [
  {
   "cell_type": "code",
   "execution_count": 2,
   "metadata": {
    "collapsed": true,
    "pycharm": {
     "name": "#%%\n"
    }
   },
   "outputs": [],
   "source": [
    "import sklearn\n",
    "import pandas as pd\n"
   ]
  },
  {
   "cell_type": "markdown",
   "source": [
    "About dataset: The breast cancer dataset is a classic and very easy binary classification dataset.\n",
    "The feature of this dataset contains:\n",
    "\n",
    "* radius (mean of distances from center to points on the perimeter)\n",
    "\n",
    "* texture (standard deviation of gray-scale values)\n",
    "* perimeter\n",
    "* area\n",
    "* smoothness (local variation in radius lengths)\n",
    "* compactness (perimeter^2 / area - 1.0)\n",
    "* concavity (severity of concave portions of the contour)\n",
    "* concave points (number of concave portions of the contour)\n",
    "* symmetry\n",
    "* fractal dimension (“coastline approximation” - 1)\n",
    "212 - Malignant, 357 - Benign"
   ],
   "metadata": {
    "collapsed": false,
    "pycharm": {
     "name": "#%% md\n"
    }
   }
  },
  {
   "cell_type": "code",
   "execution_count": 2,
   "outputs": [],
   "source": [],
   "metadata": {
    "collapsed": false,
    "pycharm": {
     "name": "#%%\n"
    }
   }
  },
  {
   "cell_type": "code",
   "execution_count": 3,
   "outputs": [
    {
     "data": {
      "text/plain": "   word_freq_make  word_freq_address  word_freq_all  word_freq_3d  \\\n0            0.00               0.64           0.64           0.0   \n1            0.21               0.28           0.50           0.0   \n2            0.06               0.00           0.71           0.0   \n3            0.00               0.00           0.00           0.0   \n4            0.00               0.00           0.00           0.0   \n\n   word_freq_our  word_freq_over  word_freq_remove  word_freq_internet  \\\n0           0.32            0.00              0.00                0.00   \n1           0.14            0.28              0.21                0.07   \n2           1.23            0.19              0.19                0.12   \n3           0.63            0.00              0.31                0.63   \n4           0.63            0.00              0.31                0.63   \n\n   word_freq_order  word_freq_mail  ...  char_freq_%3B  char_freq_%28  \\\n0             0.00            0.00  ...           0.00          0.000   \n1             0.00            0.94  ...           0.00          0.132   \n2             0.64            0.25  ...           0.01          0.143   \n3             0.31            0.63  ...           0.00          0.137   \n4             0.31            0.63  ...           0.00          0.135   \n\n   char_freq_%5B  char_freq_%21  char_freq_%24  char_freq_%23  \\\n0            0.0          0.778          0.000          0.000   \n1            0.0          0.372          0.180          0.048   \n2            0.0          0.276          0.184          0.010   \n3            0.0          0.137          0.000          0.000   \n4            0.0          0.135          0.000          0.000   \n\n   capital_run_length_average  capital_run_length_longest  \\\n0                       3.756                          61   \n1                       5.114                         101   \n2                       9.821                         485   \n3                       3.537                          40   \n4                       3.537                          40   \n\n   capital_run_length_total  class  \n0                       278      1  \n1                      1028      1  \n2                      2259      1  \n3                       191      1  \n4                       191      1  \n\n[5 rows x 58 columns]",
      "text/html": "<div>\n<style scoped>\n    .dataframe tbody tr th:only-of-type {\n        vertical-align: middle;\n    }\n\n    .dataframe tbody tr th {\n        vertical-align: top;\n    }\n\n    .dataframe thead th {\n        text-align: right;\n    }\n</style>\n<table border=\"1\" class=\"dataframe\">\n  <thead>\n    <tr style=\"text-align: right;\">\n      <th></th>\n      <th>word_freq_make</th>\n      <th>word_freq_address</th>\n      <th>word_freq_all</th>\n      <th>word_freq_3d</th>\n      <th>word_freq_our</th>\n      <th>word_freq_over</th>\n      <th>word_freq_remove</th>\n      <th>word_freq_internet</th>\n      <th>word_freq_order</th>\n      <th>word_freq_mail</th>\n      <th>...</th>\n      <th>char_freq_%3B</th>\n      <th>char_freq_%28</th>\n      <th>char_freq_%5B</th>\n      <th>char_freq_%21</th>\n      <th>char_freq_%24</th>\n      <th>char_freq_%23</th>\n      <th>capital_run_length_average</th>\n      <th>capital_run_length_longest</th>\n      <th>capital_run_length_total</th>\n      <th>class</th>\n    </tr>\n  </thead>\n  <tbody>\n    <tr>\n      <th>0</th>\n      <td>0.00</td>\n      <td>0.64</td>\n      <td>0.64</td>\n      <td>0.0</td>\n      <td>0.32</td>\n      <td>0.00</td>\n      <td>0.00</td>\n      <td>0.00</td>\n      <td>0.00</td>\n      <td>0.00</td>\n      <td>...</td>\n      <td>0.00</td>\n      <td>0.000</td>\n      <td>0.0</td>\n      <td>0.778</td>\n      <td>0.000</td>\n      <td>0.000</td>\n      <td>3.756</td>\n      <td>61</td>\n      <td>278</td>\n      <td>1</td>\n    </tr>\n    <tr>\n      <th>1</th>\n      <td>0.21</td>\n      <td>0.28</td>\n      <td>0.50</td>\n      <td>0.0</td>\n      <td>0.14</td>\n      <td>0.28</td>\n      <td>0.21</td>\n      <td>0.07</td>\n      <td>0.00</td>\n      <td>0.94</td>\n      <td>...</td>\n      <td>0.00</td>\n      <td>0.132</td>\n      <td>0.0</td>\n      <td>0.372</td>\n      <td>0.180</td>\n      <td>0.048</td>\n      <td>5.114</td>\n      <td>101</td>\n      <td>1028</td>\n      <td>1</td>\n    </tr>\n    <tr>\n      <th>2</th>\n      <td>0.06</td>\n      <td>0.00</td>\n      <td>0.71</td>\n      <td>0.0</td>\n      <td>1.23</td>\n      <td>0.19</td>\n      <td>0.19</td>\n      <td>0.12</td>\n      <td>0.64</td>\n      <td>0.25</td>\n      <td>...</td>\n      <td>0.01</td>\n      <td>0.143</td>\n      <td>0.0</td>\n      <td>0.276</td>\n      <td>0.184</td>\n      <td>0.010</td>\n      <td>9.821</td>\n      <td>485</td>\n      <td>2259</td>\n      <td>1</td>\n    </tr>\n    <tr>\n      <th>3</th>\n      <td>0.00</td>\n      <td>0.00</td>\n      <td>0.00</td>\n      <td>0.0</td>\n      <td>0.63</td>\n      <td>0.00</td>\n      <td>0.31</td>\n      <td>0.63</td>\n      <td>0.31</td>\n      <td>0.63</td>\n      <td>...</td>\n      <td>0.00</td>\n      <td>0.137</td>\n      <td>0.0</td>\n      <td>0.137</td>\n      <td>0.000</td>\n      <td>0.000</td>\n      <td>3.537</td>\n      <td>40</td>\n      <td>191</td>\n      <td>1</td>\n    </tr>\n    <tr>\n      <th>4</th>\n      <td>0.00</td>\n      <td>0.00</td>\n      <td>0.00</td>\n      <td>0.0</td>\n      <td>0.63</td>\n      <td>0.00</td>\n      <td>0.31</td>\n      <td>0.63</td>\n      <td>0.31</td>\n      <td>0.63</td>\n      <td>...</td>\n      <td>0.00</td>\n      <td>0.135</td>\n      <td>0.0</td>\n      <td>0.135</td>\n      <td>0.000</td>\n      <td>0.000</td>\n      <td>3.537</td>\n      <td>40</td>\n      <td>191</td>\n      <td>1</td>\n    </tr>\n  </tbody>\n</table>\n<p>5 rows × 58 columns</p>\n</div>"
     },
     "execution_count": 3,
     "metadata": {},
     "output_type": "execute_result"
    }
   ],
   "source": [
    "## boston datasets\n",
    "input_file = \"data/spambase/spambase_csv.csv\"\n",
    "\n",
    "\n",
    "# comma delimited is the default\n",
    "df = pd.read_csv(input_file, header = 0)\n",
    "df.head()"
   ],
   "metadata": {
    "collapsed": false,
    "pycharm": {
     "name": "#%%\n"
    }
   }
  },
  {
   "cell_type": "code",
   "execution_count": 4,
   "outputs": [
    {
     "data": {
      "text/plain": "False"
     },
     "execution_count": 4,
     "metadata": {},
     "output_type": "execute_result"
    }
   ],
   "source": [
    "# check to see if the data is clean. if dataset is unclean, some of the learning classifications will fail.\n",
    "df.isnull().values.any()"
   ],
   "metadata": {
    "collapsed": false,
    "pycharm": {
     "name": "#%%\n"
    }
   }
  },
  {
   "cell_type": "code",
   "execution_count": 5,
   "outputs": [
    {
     "data": {
      "text/plain": "word_freq_make                float64\nword_freq_address             float64\nword_freq_all                 float64\nword_freq_3d                  float64\nword_freq_our                 float64\nword_freq_over                float64\nword_freq_remove              float64\nword_freq_internet            float64\nword_freq_order               float64\nword_freq_mail                float64\nword_freq_receive             float64\nword_freq_will                float64\nword_freq_people              float64\nword_freq_report              float64\nword_freq_addresses           float64\nword_freq_free                float64\nword_freq_business            float64\nword_freq_email               float64\nword_freq_you                 float64\nword_freq_credit              float64\nword_freq_your                float64\nword_freq_font                float64\nword_freq_000                 float64\nword_freq_money               float64\nword_freq_hp                  float64\nword_freq_hpl                 float64\nword_freq_george              float64\nword_freq_650                 float64\nword_freq_lab                 float64\nword_freq_labs                float64\nword_freq_telnet              float64\nword_freq_857                 float64\nword_freq_data                float64\nword_freq_415                 float64\nword_freq_85                  float64\nword_freq_technology          float64\nword_freq_1999                float64\nword_freq_parts               float64\nword_freq_pm                  float64\nword_freq_direct              float64\nword_freq_cs                  float64\nword_freq_meeting             float64\nword_freq_original            float64\nword_freq_project             float64\nword_freq_re                  float64\nword_freq_edu                 float64\nword_freq_table               float64\nword_freq_conference          float64\nchar_freq_%3B                 float64\nchar_freq_%28                 float64\nchar_freq_%5B                 float64\nchar_freq_%21                 float64\nchar_freq_%24                 float64\nchar_freq_%23                 float64\ncapital_run_length_average    float64\ncapital_run_length_longest      int64\ncapital_run_length_total        int64\nclass                           int64\ndtype: object"
     },
     "execution_count": 5,
     "metadata": {},
     "output_type": "execute_result"
    }
   ],
   "source": [
    "# dataset appears to be neumeric. Which means we woundn't do any conversion.\n",
    "df.dtypes\n"
   ],
   "metadata": {
    "collapsed": false,
    "pycharm": {
     "name": "#%%\n"
    }
   }
  },
  {
   "cell_type": "code",
   "execution_count": 5,
   "outputs": [],
   "source": [],
   "metadata": {
    "collapsed": false,
    "pycharm": {
     "name": "#%%\n"
    }
   }
  },
  {
   "cell_type": "code",
   "execution_count": 6,
   "outputs": [
    {
     "name": "stdout",
     "output_type": "stream",
     "text": [
      "      word_freq_make  word_freq_address  word_freq_all  word_freq_3d  \\\n",
      "0               0.00               0.64           0.64           0.0   \n",
      "1               0.21               0.28           0.50           0.0   \n",
      "2               0.06               0.00           0.71           0.0   \n",
      "3               0.00               0.00           0.00           0.0   \n",
      "4               0.00               0.00           0.00           0.0   \n",
      "...              ...                ...            ...           ...   \n",
      "4596            0.31               0.00           0.62           0.0   \n",
      "4597            0.00               0.00           0.00           0.0   \n",
      "4598            0.30               0.00           0.30           0.0   \n",
      "4599            0.96               0.00           0.00           0.0   \n",
      "4600            0.00               0.00           0.65           0.0   \n",
      "\n",
      "      word_freq_our  word_freq_over  word_freq_remove  word_freq_internet  \\\n",
      "0              0.32            0.00              0.00                0.00   \n",
      "1              0.14            0.28              0.21                0.07   \n",
      "2              1.23            0.19              0.19                0.12   \n",
      "3              0.63            0.00              0.31                0.63   \n",
      "4              0.63            0.00              0.31                0.63   \n",
      "...             ...             ...               ...                 ...   \n",
      "4596           0.00            0.31              0.00                0.00   \n",
      "4597           0.00            0.00              0.00                0.00   \n",
      "4598           0.00            0.00              0.00                0.00   \n",
      "4599           0.32            0.00              0.00                0.00   \n",
      "4600           0.00            0.00              0.00                0.00   \n",
      "\n",
      "      word_freq_order  word_freq_mail  ...  word_freq_conference  \\\n",
      "0                0.00            0.00  ...                   0.0   \n",
      "1                0.00            0.94  ...                   0.0   \n",
      "2                0.64            0.25  ...                   0.0   \n",
      "3                0.31            0.63  ...                   0.0   \n",
      "4                0.31            0.63  ...                   0.0   \n",
      "...               ...             ...  ...                   ...   \n",
      "4596             0.00            0.00  ...                   0.0   \n",
      "4597             0.00            0.00  ...                   0.0   \n",
      "4598             0.00            0.00  ...                   0.0   \n",
      "4599             0.00            0.00  ...                   0.0   \n",
      "4600             0.00            0.00  ...                   0.0   \n",
      "\n",
      "      char_freq_%3B  char_freq_%28  char_freq_%5B  char_freq_%21  \\\n",
      "0             0.000          0.000            0.0          0.778   \n",
      "1             0.000          0.132            0.0          0.372   \n",
      "2             0.010          0.143            0.0          0.276   \n",
      "3             0.000          0.137            0.0          0.137   \n",
      "4             0.000          0.135            0.0          0.135   \n",
      "...             ...            ...            ...            ...   \n",
      "4596          0.000          0.232            0.0          0.000   \n",
      "4597          0.000          0.000            0.0          0.353   \n",
      "4598          0.102          0.718            0.0          0.000   \n",
      "4599          0.000          0.057            0.0          0.000   \n",
      "4600          0.000          0.000            0.0          0.125   \n",
      "\n",
      "      char_freq_%24  char_freq_%23  capital_run_length_average  \\\n",
      "0             0.000          0.000                       3.756   \n",
      "1             0.180          0.048                       5.114   \n",
      "2             0.184          0.010                       9.821   \n",
      "3             0.000          0.000                       3.537   \n",
      "4             0.000          0.000                       3.537   \n",
      "...             ...            ...                         ...   \n",
      "4596          0.000          0.000                       1.142   \n",
      "4597          0.000          0.000                       1.555   \n",
      "4598          0.000          0.000                       1.404   \n",
      "4599          0.000          0.000                       1.147   \n",
      "4600          0.000          0.000                       1.250   \n",
      "\n",
      "      capital_run_length_longest  capital_run_length_total  \n",
      "0                             61                       278  \n",
      "1                            101                      1028  \n",
      "2                            485                      2259  \n",
      "3                             40                       191  \n",
      "4                             40                       191  \n",
      "...                          ...                       ...  \n",
      "4596                           3                        88  \n",
      "4597                           4                        14  \n",
      "4598                           6                       118  \n",
      "4599                           5                        78  \n",
      "4600                           5                        40  \n",
      "\n",
      "[4601 rows x 57 columns]\n"
     ]
    }
   ],
   "source": [
    "X = df.iloc[:, -1]\n",
    "y = df.iloc[:, :-1]\n",
    "print(y)"
   ],
   "metadata": {
    "collapsed": false,
    "pycharm": {
     "name": "#%%\n"
    }
   }
  },
  {
   "cell_type": "code",
   "execution_count": 7,
   "outputs": [
    {
     "data": {
      "text/plain": "<bound method NDFrame.head of 0       1\n1       1\n2       1\n3       1\n4       1\n       ..\n4596    0\n4597    0\n4598    0\n4599    0\n4600    0\nName: class, Length: 4601, dtype: int64>"
     },
     "execution_count": 7,
     "metadata": {},
     "output_type": "execute_result"
    }
   ],
   "source": [
    "X.head"
   ],
   "metadata": {
    "collapsed": false,
    "pycharm": {
     "name": "#%%\n"
    }
   }
  },
  {
   "cell_type": "code",
   "execution_count": 22,
   "outputs": [
    {
     "ename": "ValueError",
     "evalue": "not enough values to unpack (expected 4, got 2)",
     "output_type": "error",
     "traceback": [
      "\u001B[0;31m---------------------------------------------------------------------------\u001B[0m",
      "\u001B[0;31mValueError\u001B[0m                                Traceback (most recent call last)",
      "Cell \u001B[0;32mIn [22], line 4\u001B[0m\n\u001B[1;32m      1\u001B[0m \u001B[38;5;66;03m# #X, y = sklearn.datasets.load_breast_cancer(return_X_y=True)\u001B[39;00m\n\u001B[1;32m      2\u001B[0m \u001B[38;5;66;03m# X, y = sklearn.datasets.load_breast_cancer(return_X_y=True)\u001B[39;00m\n\u001B[1;32m      3\u001B[0m \u001B[38;5;28;01mfrom\u001B[39;00m \u001B[38;5;21;01msklearn\u001B[39;00m\u001B[38;5;21;01m.\u001B[39;00m\u001B[38;5;21;01mmodel_selection\u001B[39;00m \u001B[38;5;28;01mimport\u001B[39;00m train_test_split\n\u001B[0;32m----> 4\u001B[0m X_train, X_test, y_train, y_test \u001B[38;5;241m=\u001B[39m train_test_split(df, test_size\u001B[38;5;241m=\u001B[39m\u001B[38;5;241m0.4\u001B[39m, random_state\u001B[38;5;241m=\u001B[39m\u001B[38;5;241m18\u001B[39m)\n",
      "\u001B[0;31mValueError\u001B[0m: not enough values to unpack (expected 4, got 2)"
     ]
    }
   ],
   "source": [
    "# #X, y = sklearn.datasets.load_breast_cancer(return_X_y=True)\n",
    "# X, y = sklearn.datasets.load_breast_cancer(return_X_y=True)\n"
   ],
   "metadata": {
    "collapsed": false,
    "pycharm": {
     "name": "#%%\n"
    }
   }
  },
  {
   "cell_type": "code",
   "execution_count": 36,
   "outputs": [],
   "source": [
    "from sklearn.model_selection import train_test_split\n",
    "# train, test = train_test_split(df, test_size=0.3, random_state=18)\n",
    "\n",
    "X = df.iloc[:, :-1]\n",
    "y = df.iloc[:, -1]\n",
    "\n",
    "X_train, X_test, y_train, y_test = train_test_split(X, y, test_size=0.4, random_state=18)\n"
   ],
   "metadata": {
    "collapsed": false,
    "pycharm": {
     "name": "#%%\n"
    }
   }
  },
  {
   "cell_type": "code",
   "execution_count": 40,
   "outputs": [
    {
     "data": {
      "text/plain": "1207    1\n737     1\n3810    0\n406     1\n4393    0\n       ..\n3724    0\n1507    1\n2465    0\n1215    1\n2432    0\nName: class, Length: 1841, dtype: int64"
     },
     "execution_count": 40,
     "metadata": {},
     "output_type": "execute_result"
    }
   ],
   "source": [
    "y_test"
   ],
   "metadata": {
    "collapsed": false,
    "pycharm": {
     "name": "#%%\n"
    }
   }
  },
  {
   "cell_type": "code",
   "execution_count": 41,
   "outputs": [],
   "source": [
    "### KNN\n",
    "from sklearn.neighbors import KNeighborsClassifier\n",
    "logreg = KNeighborsClassifier(n_neighbors=6)"
   ],
   "metadata": {
    "collapsed": false,
    "pycharm": {
     "name": "#%%\n"
    }
   }
  },
  {
   "cell_type": "code",
   "execution_count": 42,
   "outputs": [
    {
     "data": {
      "text/plain": "0.7865290602933188"
     },
     "execution_count": 42,
     "metadata": {},
     "output_type": "execute_result"
    }
   ],
   "source": [
    "logreg.fit(X_train, y_train)\n",
    "logreg.score(X_test, y_test)"
   ],
   "metadata": {
    "collapsed": false,
    "pycharm": {
     "name": "#%%\n"
    }
   }
  },
  {
   "cell_type": "code",
   "execution_count": 43,
   "outputs": [
    {
     "data": {
      "text/plain": "      word_freq_make  word_freq_address  word_freq_all  word_freq_3d  \\\n363             0.00               0.00           0.32           0.0   \n4363            0.00               0.00           1.21           0.0   \n2274            0.00               0.00           0.00           0.0   \n607             0.00               0.84           0.84           0.0   \n492             0.10               0.00           0.10           0.0   \n...              ...                ...            ...           ...   \n1726            0.70               0.00           0.70           0.0   \n2885            0.00               0.00           0.00           0.0   \n1144            0.37               0.75           1.13           0.0   \n4371            0.00               0.00           0.00           0.0   \n3370            0.00               0.00           0.00           0.0   \n\n      word_freq_our  word_freq_over  word_freq_remove  word_freq_internet  \\\n363            0.65            0.65              0.32                0.32   \n4363           0.00            0.00              0.00                0.00   \n2274           0.00            0.00              0.00                0.00   \n607            0.00            0.00              0.84                0.00   \n492            0.40            0.10              0.10                0.00   \n...             ...             ...               ...                 ...   \n1726           2.83            0.00              0.00                0.00   \n2885           0.00            0.00              0.00                0.00   \n1144           0.37            0.00              0.00                0.37   \n4371           0.00            0.00              0.00                0.00   \n3370           0.00            0.00              0.00                0.00   \n\n      word_freq_order  word_freq_mail  ...  word_freq_conference  \\\n363              0.00            0.00  ...                   0.0   \n4363             0.00            0.00  ...                   0.0   \n2274             0.00            0.00  ...                   0.0   \n607              0.00            1.68  ...                   0.0   \n492              0.20            0.20  ...                   0.0   \n...               ...             ...  ...                   ...   \n1726             0.00            0.00  ...                   0.0   \n2885             0.00            0.00  ...                   0.0   \n1144             0.37            1.88  ...                   0.0   \n4371             0.00            0.00  ...                   0.0   \n3370             0.00            0.00  ...                   0.0   \n\n      char_freq_%3B  char_freq_%28  char_freq_%5B  char_freq_%21  \\\n363             0.0          0.105            0.0          0.000   \n4363            0.0          0.371            0.0          0.000   \n2274            0.0          1.082            0.0          0.000   \n607             0.0          0.000            0.0          0.519   \n492             0.0          0.093            0.0          0.297   \n...             ...            ...            ...            ...   \n1726            0.0          0.000            0.0          0.110   \n2885            0.0          0.000            0.0          0.000   \n1144            0.0          0.197            0.0          1.248   \n4371            0.0          0.000            0.0          0.000   \n3370            0.0          0.645            0.0          0.000   \n\n      char_freq_%24  char_freq_%23  capital_run_length_average  \\\n363           0.158          0.000                       1.494   \n4363          0.000          0.000                       1.967   \n2274          0.000          0.216                       3.478   \n607           0.000          0.000                       5.000   \n492           0.156          0.000                       6.800   \n...             ...            ...                         ...   \n1726          0.000          0.000                       1.083   \n2885          0.000          0.000                       1.764   \n1144          0.197          0.065                      58.705   \n4371          0.000          0.000                       2.125   \n3370          0.000          0.000                       1.000   \n\n      capital_run_length_longest  capital_run_length_total  \n363                           10                       139  \n4363                          13                        61  \n2274                           7                        80  \n607                           43                       125  \n492                          494                      1428  \n...                          ...                       ...  \n1726                           3                        26  \n2885                           6                        30  \n1144                         842                       998  \n4371                           5                        17  \n3370                           1                         9  \n\n[2760 rows x 57 columns]",
      "text/html": "<div>\n<style scoped>\n    .dataframe tbody tr th:only-of-type {\n        vertical-align: middle;\n    }\n\n    .dataframe tbody tr th {\n        vertical-align: top;\n    }\n\n    .dataframe thead th {\n        text-align: right;\n    }\n</style>\n<table border=\"1\" class=\"dataframe\">\n  <thead>\n    <tr style=\"text-align: right;\">\n      <th></th>\n      <th>word_freq_make</th>\n      <th>word_freq_address</th>\n      <th>word_freq_all</th>\n      <th>word_freq_3d</th>\n      <th>word_freq_our</th>\n      <th>word_freq_over</th>\n      <th>word_freq_remove</th>\n      <th>word_freq_internet</th>\n      <th>word_freq_order</th>\n      <th>word_freq_mail</th>\n      <th>...</th>\n      <th>word_freq_conference</th>\n      <th>char_freq_%3B</th>\n      <th>char_freq_%28</th>\n      <th>char_freq_%5B</th>\n      <th>char_freq_%21</th>\n      <th>char_freq_%24</th>\n      <th>char_freq_%23</th>\n      <th>capital_run_length_average</th>\n      <th>capital_run_length_longest</th>\n      <th>capital_run_length_total</th>\n    </tr>\n  </thead>\n  <tbody>\n    <tr>\n      <th>363</th>\n      <td>0.00</td>\n      <td>0.00</td>\n      <td>0.32</td>\n      <td>0.0</td>\n      <td>0.65</td>\n      <td>0.65</td>\n      <td>0.32</td>\n      <td>0.32</td>\n      <td>0.00</td>\n      <td>0.00</td>\n      <td>...</td>\n      <td>0.0</td>\n      <td>0.0</td>\n      <td>0.105</td>\n      <td>0.0</td>\n      <td>0.000</td>\n      <td>0.158</td>\n      <td>0.000</td>\n      <td>1.494</td>\n      <td>10</td>\n      <td>139</td>\n    </tr>\n    <tr>\n      <th>4363</th>\n      <td>0.00</td>\n      <td>0.00</td>\n      <td>1.21</td>\n      <td>0.0</td>\n      <td>0.00</td>\n      <td>0.00</td>\n      <td>0.00</td>\n      <td>0.00</td>\n      <td>0.00</td>\n      <td>0.00</td>\n      <td>...</td>\n      <td>0.0</td>\n      <td>0.0</td>\n      <td>0.371</td>\n      <td>0.0</td>\n      <td>0.000</td>\n      <td>0.000</td>\n      <td>0.000</td>\n      <td>1.967</td>\n      <td>13</td>\n      <td>61</td>\n    </tr>\n    <tr>\n      <th>2274</th>\n      <td>0.00</td>\n      <td>0.00</td>\n      <td>0.00</td>\n      <td>0.0</td>\n      <td>0.00</td>\n      <td>0.00</td>\n      <td>0.00</td>\n      <td>0.00</td>\n      <td>0.00</td>\n      <td>0.00</td>\n      <td>...</td>\n      <td>0.0</td>\n      <td>0.0</td>\n      <td>1.082</td>\n      <td>0.0</td>\n      <td>0.000</td>\n      <td>0.000</td>\n      <td>0.216</td>\n      <td>3.478</td>\n      <td>7</td>\n      <td>80</td>\n    </tr>\n    <tr>\n      <th>607</th>\n      <td>0.00</td>\n      <td>0.84</td>\n      <td>0.84</td>\n      <td>0.0</td>\n      <td>0.00</td>\n      <td>0.00</td>\n      <td>0.84</td>\n      <td>0.00</td>\n      <td>0.00</td>\n      <td>1.68</td>\n      <td>...</td>\n      <td>0.0</td>\n      <td>0.0</td>\n      <td>0.000</td>\n      <td>0.0</td>\n      <td>0.519</td>\n      <td>0.000</td>\n      <td>0.000</td>\n      <td>5.000</td>\n      <td>43</td>\n      <td>125</td>\n    </tr>\n    <tr>\n      <th>492</th>\n      <td>0.10</td>\n      <td>0.00</td>\n      <td>0.10</td>\n      <td>0.0</td>\n      <td>0.40</td>\n      <td>0.10</td>\n      <td>0.10</td>\n      <td>0.00</td>\n      <td>0.20</td>\n      <td>0.20</td>\n      <td>...</td>\n      <td>0.0</td>\n      <td>0.0</td>\n      <td>0.093</td>\n      <td>0.0</td>\n      <td>0.297</td>\n      <td>0.156</td>\n      <td>0.000</td>\n      <td>6.800</td>\n      <td>494</td>\n      <td>1428</td>\n    </tr>\n    <tr>\n      <th>...</th>\n      <td>...</td>\n      <td>...</td>\n      <td>...</td>\n      <td>...</td>\n      <td>...</td>\n      <td>...</td>\n      <td>...</td>\n      <td>...</td>\n      <td>...</td>\n      <td>...</td>\n      <td>...</td>\n      <td>...</td>\n      <td>...</td>\n      <td>...</td>\n      <td>...</td>\n      <td>...</td>\n      <td>...</td>\n      <td>...</td>\n      <td>...</td>\n      <td>...</td>\n      <td>...</td>\n    </tr>\n    <tr>\n      <th>1726</th>\n      <td>0.70</td>\n      <td>0.00</td>\n      <td>0.70</td>\n      <td>0.0</td>\n      <td>2.83</td>\n      <td>0.00</td>\n      <td>0.00</td>\n      <td>0.00</td>\n      <td>0.00</td>\n      <td>0.00</td>\n      <td>...</td>\n      <td>0.0</td>\n      <td>0.0</td>\n      <td>0.000</td>\n      <td>0.0</td>\n      <td>0.110</td>\n      <td>0.000</td>\n      <td>0.000</td>\n      <td>1.083</td>\n      <td>3</td>\n      <td>26</td>\n    </tr>\n    <tr>\n      <th>2885</th>\n      <td>0.00</td>\n      <td>0.00</td>\n      <td>0.00</td>\n      <td>0.0</td>\n      <td>0.00</td>\n      <td>0.00</td>\n      <td>0.00</td>\n      <td>0.00</td>\n      <td>0.00</td>\n      <td>0.00</td>\n      <td>...</td>\n      <td>0.0</td>\n      <td>0.0</td>\n      <td>0.000</td>\n      <td>0.0</td>\n      <td>0.000</td>\n      <td>0.000</td>\n      <td>0.000</td>\n      <td>1.764</td>\n      <td>6</td>\n      <td>30</td>\n    </tr>\n    <tr>\n      <th>1144</th>\n      <td>0.37</td>\n      <td>0.75</td>\n      <td>1.13</td>\n      <td>0.0</td>\n      <td>0.37</td>\n      <td>0.00</td>\n      <td>0.00</td>\n      <td>0.37</td>\n      <td>0.37</td>\n      <td>1.88</td>\n      <td>...</td>\n      <td>0.0</td>\n      <td>0.0</td>\n      <td>0.197</td>\n      <td>0.0</td>\n      <td>1.248</td>\n      <td>0.197</td>\n      <td>0.065</td>\n      <td>58.705</td>\n      <td>842</td>\n      <td>998</td>\n    </tr>\n    <tr>\n      <th>4371</th>\n      <td>0.00</td>\n      <td>0.00</td>\n      <td>0.00</td>\n      <td>0.0</td>\n      <td>0.00</td>\n      <td>0.00</td>\n      <td>0.00</td>\n      <td>0.00</td>\n      <td>0.00</td>\n      <td>0.00</td>\n      <td>...</td>\n      <td>0.0</td>\n      <td>0.0</td>\n      <td>0.000</td>\n      <td>0.0</td>\n      <td>0.000</td>\n      <td>0.000</td>\n      <td>0.000</td>\n      <td>2.125</td>\n      <td>5</td>\n      <td>17</td>\n    </tr>\n    <tr>\n      <th>3370</th>\n      <td>0.00</td>\n      <td>0.00</td>\n      <td>0.00</td>\n      <td>0.0</td>\n      <td>0.00</td>\n      <td>0.00</td>\n      <td>0.00</td>\n      <td>0.00</td>\n      <td>0.00</td>\n      <td>0.00</td>\n      <td>...</td>\n      <td>0.0</td>\n      <td>0.0</td>\n      <td>0.645</td>\n      <td>0.0</td>\n      <td>0.000</td>\n      <td>0.000</td>\n      <td>0.000</td>\n      <td>1.000</td>\n      <td>1</td>\n      <td>9</td>\n    </tr>\n  </tbody>\n</table>\n<p>2760 rows × 57 columns</p>\n</div>"
     },
     "execution_count": 43,
     "metadata": {},
     "output_type": "execute_result"
    }
   ],
   "source": [
    "X_train"
   ],
   "metadata": {
    "collapsed": false,
    "pycharm": {
     "name": "#%%\n"
    }
   }
  },
  {
   "cell_type": "code",
   "execution_count": 44,
   "outputs": [
    {
     "data": {
      "text/plain": "0.9043997827267789"
     },
     "execution_count": 44,
     "metadata": {},
     "output_type": "execute_result"
    }
   ],
   "source": [
    "### DT\n",
    "from sklearn import tree\n",
    "clf = tree.DecisionTreeClassifier()\n",
    "clf.fit(X_train, y_train)\n",
    "clf.score(X_test, y_test)"
   ],
   "metadata": {
    "collapsed": false,
    "pycharm": {
     "name": "#%%\n"
    }
   }
  },
  {
   "cell_type": "markdown",
   "source": [
    "##"
   ],
   "metadata": {
    "collapsed": false,
    "pycharm": {
     "name": "#%% md\n"
    }
   }
  },
  {
   "cell_type": "code",
   "execution_count": 49,
   "outputs": [
    {
     "data": {
      "text/plain": "0.9293862031504617"
     },
     "execution_count": 49,
     "metadata": {},
     "output_type": "execute_result"
    }
   ],
   "source": [
    "## neural network\n",
    "from sklearn.neural_network import MLPClassifier\n",
    "clf = MLPClassifier(hidden_layer_sizes=(5, 3), random_state=47, max_iter=1000)\n",
    "clf.fit(X_train, y_train)\n",
    "clf.score(X_test, y_test)"
   ],
   "metadata": {
    "collapsed": false,
    "pycharm": {
     "name": "#%%\n"
    }
   }
  },
  {
   "cell_type": "code",
   "execution_count": 51,
   "outputs": [
    {
     "data": {
      "text/plain": "0.694731124388919"
     },
     "execution_count": 51,
     "metadata": {},
     "output_type": "execute_result"
    }
   ],
   "source": [
    "from sklearn import svm\n",
    "clf = svm.SVC().fit(X_train, y_train)\n",
    "clf.fit(X_train, y_train)\n",
    "clf.score(X_test, y_test)"
   ],
   "metadata": {
    "collapsed": false,
    "pycharm": {
     "name": "#%%\n"
    }
   }
  },
  {
   "cell_type": "code",
   "execution_count": 52,
   "outputs": [
    {
     "data": {
      "text/plain": "0.9435089625203693"
     },
     "execution_count": 52,
     "metadata": {},
     "output_type": "execute_result"
    }
   ],
   "source": [
    "from sklearn.ensemble import GradientBoostingClassifier\n",
    "# boosting = GradientBoostingClassifier(n_estimators=i).fit(X_train, y_train)\n",
    "\n",
    "clf = GradientBoostingClassifier(n_estimators=100, learning_rate=1.0,\n",
    "                                 max_depth=1, random_state=0).fit(X_train, y_train)\n",
    "clf.score(X_test, y_test)"
   ],
   "metadata": {
    "collapsed": false,
    "pycharm": {
     "name": "#%%\n"
    }
   }
  },
  {
   "cell_type": "code",
   "execution_count": 46,
   "outputs": [],
   "source": [],
   "metadata": {
    "collapsed": false,
    "pycharm": {
     "name": "#%%\n"
    }
   }
  }
 ],
 "metadata": {
  "kernelspec": {
   "display_name": "Python 3",
   "language": "python",
   "name": "python3"
  },
  "language_info": {
   "codemirror_mode": {
    "name": "ipython",
    "version": 2
   },
   "file_extension": ".py",
   "mimetype": "text/x-python",
   "name": "python",
   "nbconvert_exporter": "python",
   "pygments_lexer": "ipython2",
   "version": "2.7.6"
  }
 },
 "nbformat": 4,
 "nbformat_minor": 0
}